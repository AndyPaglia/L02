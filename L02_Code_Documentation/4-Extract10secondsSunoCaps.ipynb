{
  "nbformat": 4,
  "nbformat_minor": 0,
  "metadata": {
    "colab": {
      "provenance": []
    },
    "kernelspec": {
      "name": "python3",
      "display_name": "Python 3"
    },
    "language_info": {
      "name": "python"
    }
  },
  "cells": [
    {
      "cell_type": "markdown",
      "source": [
        "**EXTRACT ONLY THE FIRST PART OF SUNO**\n",
        "\n",
        "Since SunoCaps audio last more than 10s while the other classes have 10s audios, we extract only the first 10s of SunoCaps to have audios of the same length."
      ],
      "metadata": {
        "id": "DauX8GkY08UN"
      }
    },
    {
      "cell_type": "code",
      "execution_count": 1,
      "metadata": {
        "colab": {
          "base_uri": "https://localhost:8080/"
        },
        "id": "8AKwj2e_CTi3",
        "outputId": "ebb8b0bd-7def-46a6-8fe6-e21e66f90c08"
      },
      "outputs": [
        {
          "output_type": "stream",
          "name": "stdout",
          "text": [
            "Mounted at /content/drive\n"
          ]
        }
      ],
      "source": [
        "# Mounting Google Drive on Google Colab.\n",
        "from google.colab import drive\n",
        "drive.mount('/content/drive')\n"
      ]
    },
    {
      "cell_type": "code",
      "source": [
        "# Importing libraries.\n",
        "import os\n",
        "import json\n",
        "\n",
        "# Convert the time info in seconds.\n",
        "def time_to_seconds(t):\n",
        "    minutes, seconds = map(int, t.split(':'))\n",
        "    return minutes * 60 + seconds\n",
        "\n",
        "# filter JSON files based on time.\n",
        "def filtra_json_per_tempo(file_path, output_dir, max_seconds=10):\n",
        "    with open(file_path, 'r', encoding='utf-8') as f:\n",
        "        data = json.load(f)\n",
        "\n",
        "    filtrato = {}\n",
        "    for key, value in data.items():\n",
        "        time_range = value.get(\"time\", \"\")\n",
        "        if '-' in time_range:\n",
        "            start_str, _ = time_range.split('-')\n",
        "            start_sec = time_to_seconds(start_str.strip())\n",
        "            if start_sec < max_seconds:\n",
        "                filtrato[key] = value\n",
        "\n",
        "    if filtrato:\n",
        "        file_name = os.path.basename(file_path)\n",
        "        output_path = os.path.join(output_dir, file_name)\n",
        "        with open(output_path, 'w', encoding='utf-8') as f_out:\n",
        "            json.dump(filtrato, f_out, indent=4, ensure_ascii=False)\n",
        "        print(f\" Saved: {output_path}\")\n",
        "    else:\n",
        "        print(f\"No block valid: {file_path}\")\n"
      ],
      "metadata": {
        "id": "NADSBg0FC6Vl"
      },
      "execution_count": 2,
      "outputs": []
    },
    {
      "cell_type": "code",
      "source": [
        "# Configure the paths.\n",
        "\n",
        "# Folder with original content.\n",
        "input_dir = '/content/drive/MyDrive/L02CapstoneProject/FakeMusicCapsCAPTIONS2500/SunoCaps'\n",
        "\n",
        "# Folder where SunoCaps10s will be saved.\n",
        "output_dir = '/content/drive/MyDrive/L02CapstoneProject/SunoCaps10s'\n",
        "\n",
        "# Create the folder if it does not exist.\n",
        "os.makedirs(output_dir, exist_ok=True)\n",
        "\n",
        "# Filter all the files.\n",
        "for filename in os.listdir(input_dir):\n",
        "    if filename.endswith('.json'):\n",
        "        filepath = os.path.join(input_dir, filename)\n",
        "        filtra_json_per_tempo(filepath, output_dir)\n",
        "\n",
        "print(\" Completed!\")\n"
      ],
      "metadata": {
        "colab": {
          "base_uri": "https://localhost:8080/"
        },
        "id": "CszJDQhPDCzP",
        "outputId": "21740e23-af27-476b-d07d-3e1dbe8e8706"
      },
      "execution_count": 3,
      "outputs": [
        {
          "output_type": "stream",
          "name": "stdout",
          "text": [
            " Saved: /content/drive/MyDrive/L02CapstoneProject/SunoCaps10s/0dPx94RPy2M_captions.json\n",
            " Saved: /content/drive/MyDrive/L02CapstoneProject/SunoCaps10s/2Ic1zm9mBjk_captions.json\n",
            " Saved: /content/drive/MyDrive/L02CapstoneProject/SunoCaps10s/03z0rpIkm5g_captions.json\n",
            " Saved: /content/drive/MyDrive/L02CapstoneProject/SunoCaps10s/1y1lEOGBcWM_captions.json\n",
            " Saved: /content/drive/MyDrive/L02CapstoneProject/SunoCaps10s/-88me9bBzrk_captions.json\n",
            " Saved: /content/drive/MyDrive/L02CapstoneProject/SunoCaps10s/0abzD7hBTRk_captions.json\n",
            " Saved: /content/drive/MyDrive/L02CapstoneProject/SunoCaps10s/07-3grCQ8EU_captions.json\n",
            " Saved: /content/drive/MyDrive/L02CapstoneProject/SunoCaps10s/11D0JdB7_captions.json\n",
            " Saved: /content/drive/MyDrive/L02CapstoneProject/SunoCaps10s/-T4GeTHKtJQ_captions.json\n",
            " Saved: /content/drive/MyDrive/L02CapstoneProject/SunoCaps10s/1OIfQHKnAcw_captions.json\n",
            " Saved: /content/drive/MyDrive/L02CapstoneProject/SunoCaps10s/-nlkWWphiaM_captions.json\n",
            " Saved: /content/drive/MyDrive/L02CapstoneProject/SunoCaps10s/-5xOcMJpTUk_captions.json\n",
            " Saved: /content/drive/MyDrive/L02CapstoneProject/SunoCaps10s/-r7iz-9v9bA_captions.json\n",
            " Saved: /content/drive/MyDrive/L02CapstoneProject/SunoCaps10s/0Gxn9FtaJFc_captions.json\n",
            " Saved: /content/drive/MyDrive/L02CapstoneProject/SunoCaps10s/-FFx68qSAuY_captions.json\n",
            " Saved: /content/drive/MyDrive/L02CapstoneProject/SunoCaps10s/1IK4OeOqAEo_captions.json\n",
            " Saved: /content/drive/MyDrive/L02CapstoneProject/SunoCaps10s/20Vh6z6Ie0E_captions.json\n",
            " Saved: /content/drive/MyDrive/L02CapstoneProject/SunoCaps10s/0LLlcPiatiU_captions.json\n",
            " Saved: /content/drive/MyDrive/L02CapstoneProject/SunoCaps10s/-fxh7jAJR8U_captions.json\n",
            " Saved: /content/drive/MyDrive/L02CapstoneProject/SunoCaps10s/-ByoSbgzr4M_captions.json\n",
            " Saved: /content/drive/MyDrive/L02CapstoneProject/SunoCaps10s/-tmY1GEH3_captions.json\n",
            " Saved: /content/drive/MyDrive/L02CapstoneProject/SunoCaps10s/1JwoLPCIGhs_captions.json\n",
            " Saved: /content/drive/MyDrive/L02CapstoneProject/SunoCaps10s/19-GI2LzOtc_captions.json\n",
            " Saved: /content/drive/MyDrive/L02CapstoneProject/SunoCaps10s/2ShO1jZYZeA_captions.json\n",
            " Saved: /content/drive/MyDrive/L02CapstoneProject/SunoCaps10s/1_captions.json\n",
            " Saved: /content/drive/MyDrive/L02CapstoneProject/SunoCaps10s/-cQ-jUTEgck_captions.json\n",
            " Saved: /content/drive/MyDrive/L02CapstoneProject/SunoCaps10s/2VFVe0RCn7g_captions.json\n",
            " Saved: /content/drive/MyDrive/L02CapstoneProject/SunoCaps10s/1pR0SgbqP3M_captions.json\n",
            " Saved: /content/drive/MyDrive/L02CapstoneProject/SunoCaps10s/1gDNqOQFopY_captions.json\n",
            " Saved: /content/drive/MyDrive/L02CapstoneProject/SunoCaps10s/-Q9MTRXS4bE_captions.json\n",
            " Saved: /content/drive/MyDrive/L02CapstoneProject/SunoCaps10s/0khKvVDyYV4_captions.json\n",
            " Saved: /content/drive/MyDrive/L02CapstoneProject/SunoCaps10s/0JbGxIR8JTk_captions.json\n",
            " Saved: /content/drive/MyDrive/L02CapstoneProject/SunoCaps10s/1j13NdQiw8c_captions.json\n",
            " Saved: /content/drive/MyDrive/L02CapstoneProject/SunoCaps10s/1l7BjFDQLUM_captions.json\n",
            " Saved: /content/drive/MyDrive/L02CapstoneProject/SunoCaps10s/2Q20hVyYjBM_captions.json\n",
            " Saved: /content/drive/MyDrive/L02CapstoneProject/SunoCaps10s/15Mw2jyyHk0_captions.json\n",
            " Saved: /content/drive/MyDrive/L02CapstoneProject/SunoCaps10s/0hfU27A6tus_captions.json\n",
            " Saved: /content/drive/MyDrive/L02CapstoneProject/SunoCaps10s/25RWrqQol7Y_captions.json\n",
            " Saved: /content/drive/MyDrive/L02CapstoneProject/SunoCaps10s/1Ccis4FDGwY_captions.json\n",
            " Saved: /content/drive/MyDrive/L02CapstoneProject/SunoCaps10s/1W2FOzSXsxs_captions.json\n",
            " Saved: /content/drive/MyDrive/L02CapstoneProject/SunoCaps10s/0DYH0sqDXB8_captions.json\n",
            " Saved: /content/drive/MyDrive/L02CapstoneProject/SunoCaps10s/1QSD-dzEv7Y_captions.json\n",
            " Saved: /content/drive/MyDrive/L02CapstoneProject/SunoCaps10s/0soVCtJgDTk_captions.json\n",
            " Saved: /content/drive/MyDrive/L02CapstoneProject/SunoCaps10s/00M9FhCet6s_captions.json\n",
            " Saved: /content/drive/MyDrive/L02CapstoneProject/SunoCaps10s/2G4lyzAZ1vk_captions.json\n",
            " Saved: /content/drive/MyDrive/L02CapstoneProject/SunoCaps10s/-0Gj8-vB1q4_captions.json\n",
            " Saved: /content/drive/MyDrive/L02CapstoneProject/SunoCaps10s/2KkNk9Ao7G4_captions.json\n",
            " Saved: /content/drive/MyDrive/L02CapstoneProject/SunoCaps10s/1SqihV_captions.json\n",
            " Saved: /content/drive/MyDrive/L02CapstoneProject/SunoCaps10s/-M-6VinyMiY_captions.json\n",
            " Saved: /content/drive/MyDrive/L02CapstoneProject/SunoCaps10s/0ZXWSO_captions.json\n",
            " Saved: /content/drive/MyDrive/L02CapstoneProject/SunoCaps10s/0VjPCd62oKg_captions.json\n",
            " Saved: /content/drive/MyDrive/L02CapstoneProject/SunoCaps10s/0pewITE1550_captions.json\n",
            " Saved: /content/drive/MyDrive/L02CapstoneProject/SunoCaps10s/-w8maIWtnUk_captions.json\n",
            " Saved: /content/drive/MyDrive/L02CapstoneProject/SunoCaps10s/0QAaln-hjPw_captions.json\n",
            " Saved: /content/drive/MyDrive/L02CapstoneProject/SunoCaps10s/-1UWSisR2zo_captions.json\n",
            " Saved: /content/drive/MyDrive/L02CapstoneProject/SunoCaps10s/0wYi8B9PXDY_captions.json\n",
            " Saved: /content/drive/MyDrive/L02CapstoneProject/SunoCaps10s/298Q_captions.json\n",
            " Saved: /content/drive/MyDrive/L02CapstoneProject/SunoCaps10s/0OY8XXZ98rw_captions.json\n",
            " Saved: /content/drive/MyDrive/L02CapstoneProject/SunoCaps10s/08u-jdwjM74_captions.json\n",
            " Saved: /content/drive/MyDrive/L02CapstoneProject/SunoCaps10s/0S5zWt91Bwo_captions.json\n",
            " Saved: /content/drive/MyDrive/L02CapstoneProject/SunoCaps10s/-Vo4CAMX26U_captions.json\n",
            " Saved: /content/drive/MyDrive/L02CapstoneProject/SunoCaps10s/2ZfthfWQowE_captions.json\n",
            " Saved: /content/drive/MyDrive/L02CapstoneProject/SunoCaps10s/-kpR93atgd8_captions.json\n",
            " Completed!\n"
          ]
        }
      ]
    }
  ]
}