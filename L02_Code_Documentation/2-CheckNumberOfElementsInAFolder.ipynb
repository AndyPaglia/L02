{
  "nbformat": 4,
  "nbformat_minor": 0,
  "metadata": {
    "colab": {
      "provenance": [],
      "gpuType": "T4"
    },
    "kernelspec": {
      "name": "python3",
      "display_name": "Python 3"
    },
    "language_info": {
      "name": "python"
    },
    "accelerator": "GPU"
  },
  "cells": [
    {
      "cell_type": "markdown",
      "source": [
        "**COUNT THE DATA INSIDE THE REDUCED FOLDER**\n",
        "\n",
        "Check if the number of reduced element is correct for every subfolder of FakeMusicCaps."
      ],
      "metadata": {
        "id": "qQQl95ObNA-0"
      }
    },
    {
      "cell_type": "code",
      "execution_count": 1,
      "metadata": {
        "colab": {
          "base_uri": "https://localhost:8080/"
        },
        "id": "W7REh_bkd1PV",
        "outputId": "7a23d920-f84a-4e0d-8c36-5526c428c9c1"
      },
      "outputs": [
        {
          "output_type": "stream",
          "name": "stdout",
          "text": [
            "Mounted at /content/drive\n"
          ]
        }
      ],
      "source": [
        "# Mounting Google Drive in Google Colab to enter the folder useful for this project.\n",
        "from google.colab import drive\n",
        "drive.mount('/content/drive')\n"
      ]
    },
    {
      "cell_type": "code",
      "source": [
        "# Counting element present in a subfolder of the folder representing the reduced version of FakeMusicCaps.\n",
        "import os\n",
        "\n",
        "folder_path = \"/content/drive/MyDrive/CapstoneProject/DatasetReduction-2500/stable_audio_open\" # change with the name of the subfolder of FakeMusicCaps2500\n",
        "num_files = len([f for f in os.listdir(folder_path) if os.path.isfile(os.path.join(folder_path, f))])\n",
        "print(f\"Numero di file nella cartella: {num_files}\")\n"
      ],
      "metadata": {
        "colab": {
          "base_uri": "https://localhost:8080/"
        },
        "id": "PUQ5gBmJd9bK",
        "outputId": "5d93de6c-2f11-45ee-a595-8034efdbade7"
      },
      "execution_count": 7,
      "outputs": [
        {
          "output_type": "stream",
          "name": "stdout",
          "text": [
            "Numero di file nella cartella: 2500\n"
          ]
        }
      ]
    }
  ]
}